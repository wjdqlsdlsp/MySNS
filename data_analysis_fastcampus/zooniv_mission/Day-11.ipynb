{
 "cells": [
  {
   "cell_type": "code",
   "execution_count": 9,
   "metadata": {},
   "outputs": [],
   "source": [
    "# 필요한 Module을 Import 하세요\n",
    "import numpy as np\n",
    "import pandas as pd\n",
    "from datetime import datetime, timedelta"
   ]
  },
  {
   "cell_type": "code",
   "execution_count": 10,
   "metadata": {},
   "outputs": [],
   "source": [
    "# 주어진 데이터를 불러오세요\n",
    "data = pd.read_csv(\"Day11_Time.csv\")"
   ]
  },
  {
   "cell_type": "markdown",
   "metadata": {},
   "source": [
    "### 1. Object 타입으로 되어있는 Transaction Date 컬럼을 datetime으로 바꾸세요."
   ]
  },
  {
   "cell_type": "code",
   "execution_count": 14,
   "metadata": {},
   "outputs": [],
   "source": [
    "# 정답 Code\n",
    "data['Transaction Date'] = pd.to_datetime(data['Transaction Date'])"
   ]
  },
  {
   "cell_type": "markdown",
   "metadata": {},
   "source": [
    "### 2. Transaction Date 컬럼에 +30일을 더해보세요. (apply lambda 사용)"
   ]
  },
  {
   "cell_type": "code",
   "execution_count": 18,
   "metadata": {},
   "outputs": [
    {
     "data": {
      "text/plain": [
       "0      2013-08-29\n",
       "1      2013-08-29\n",
       "2      2013-08-28\n",
       "3      2013-08-29\n",
       "4      2013-08-29\n",
       "          ...    \n",
       "4168   2013-07-29\n",
       "4169   2013-07-28\n",
       "4170   2013-07-29\n",
       "4171   2013-07-28\n",
       "4172   2013-07-28\n",
       "Name: Transaction Date, Length: 4173, dtype: datetime64[ns]"
      ]
     },
     "execution_count": 18,
     "metadata": {},
     "output_type": "execute_result"
    }
   ],
   "source": [
    "# 정답 Code\n",
    "data['Transaction Date'].apply(lambda x: x + timedelta(days= 30))"
   ]
  },
  {
   "cell_type": "code",
   "execution_count": 5,
   "metadata": {},
   "outputs": [
    {
     "data": {
      "text/plain": [
       "0      2013-08-29\n",
       "1      2013-08-29\n",
       "2      2013-08-28\n",
       "3      2013-08-29\n",
       "4      2013-08-29\n",
       "          ...    \n",
       "4168   2013-07-29\n",
       "4169   2013-07-28\n",
       "4170   2013-07-29\n",
       "4171   2013-07-28\n",
       "4172   2013-07-28\n",
       "Name: Transaction Date, Length: 4173, dtype: datetime64[ns]"
      ]
     },
     "execution_count": 5,
     "metadata": {},
     "output_type": "execute_result"
    }
   ],
   "source": [
    "# 아래와 같은 형태가 나와야합니다."
   ]
  },
  {
   "cell_type": "markdown",
   "metadata": {},
   "source": [
    "### 3.  Transaction Date 컬럼을 유닉스 프레임 형태로 바꿔보세요 (Scientific 형태로 보이는 것을 일반 숫자 형태로 보이도록 옵션 조정)"
   ]
  },
  {
   "cell_type": "code",
   "execution_count": 24,
   "metadata": {},
   "outputs": [
    {
     "data": {
      "text/plain": [
       "0      1375142400\n",
       "1      1375142400\n",
       "2      1375056000\n",
       "3      1375142400\n",
       "4      1375142400\n",
       "          ...    \n",
       "4168   1372464000\n",
       "4169   1372377600\n",
       "4170   1372464000\n",
       "4171   1372377600\n",
       "4172   1372377600\n",
       "Name: Transaction Date, Length: 4173, dtype: float64"
      ]
     },
     "execution_count": 24,
     "metadata": {},
     "output_type": "execute_result"
    }
   ],
   "source": [
    "# 정답 Code\n",
    "pd.set_option('display.float_format', lambda x: '%.f' %x)\n",
    "pd.to_numeric(data['Transaction Date']) / 10**9"
   ]
  },
  {
   "cell_type": "code",
   "execution_count": 7,
   "metadata": {},
   "outputs": [
    {
     "data": {
      "text/plain": [
       "0      1375142400\n",
       "1      1375142400\n",
       "2      1375056000\n",
       "3      1375142400\n",
       "4      1375142400\n",
       "          ...    \n",
       "4168   1372464000\n",
       "4169   1372377600\n",
       "4170   1372464000\n",
       "4171   1372377600\n",
       "4172   1372377600\n",
       "Name: Transaction Date, Length: 4173, dtype: float64"
      ]
     },
     "execution_count": 7,
     "metadata": {},
     "output_type": "execute_result"
    }
   ],
   "source": [
    "# 아래와 같은 형태가 나와야합니다."
   ]
  }
 ],
 "metadata": {
  "kernelspec": {
   "display_name": "Python 3",
   "language": "python",
   "name": "python3"
  },
  "language_info": {
   "codemirror_mode": {
    "name": "ipython",
    "version": 3
   },
   "file_extension": ".py",
   "mimetype": "text/x-python",
   "name": "python",
   "nbconvert_exporter": "python",
   "pygments_lexer": "ipython3",
   "version": "3.8.5"
  }
 },
 "nbformat": 4,
 "nbformat_minor": 4
}

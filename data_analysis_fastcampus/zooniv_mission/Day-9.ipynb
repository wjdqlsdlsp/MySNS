{
 "cells": [
  {
   "cell_type": "code",
   "execution_count": 10,
   "metadata": {},
   "outputs": [],
   "source": [
    "# 필요한 Module을 Import 하세요\n",
    "import pandas as pd\n",
    "import numpy as np\n",
    "import matplotlib.pyplot as plt\n",
    "import seaborn as sns"
   ]
  },
  {
   "cell_type": "code",
   "execution_count": 11,
   "metadata": {},
   "outputs": [],
   "source": [
    "# 주어진 데이터를 불러오세요\n",
    "df = pd.read_csv(\"Day9_Titanic_cleaned.csv\")"
   ]
  },
  {
   "cell_type": "markdown",
   "metadata": {},
   "source": [
    "# 주어진 데이터를 가지고 RandomForest Classifier 모델을 만들어보세요"
   ]
  },
  {
   "cell_type": "markdown",
   "metadata": {},
   "source": [
    "### 1. Train, test 비율은 7:3, random_state=100, Target 컬럼은 'Survived'로 하여 Train Test 셋을 나누세요"
   ]
  },
  {
   "cell_type": "code",
   "execution_count": 12,
   "metadata": {},
   "outputs": [],
   "source": [
    "df.drop('PassengerId', axis=1, inplace =True)"
   ]
  },
  {
   "cell_type": "code",
   "execution_count": 13,
   "metadata": {},
   "outputs": [],
   "source": [
    "# 정답 Code\n",
    "from sklearn.model_selection import train_test_split\n",
    "\n",
    "X = df.drop(\"Survived\",axis=1)\n",
    "y = df[b\"Survived\"]\n",
    "\n",
    "X_train, X_test, y_train, y_test = train_test_split(X,y ,test_size=.3, random_state=100)"
   ]
  },
  {
   "cell_type": "markdown",
   "metadata": {},
   "source": [
    "### 2. Random Forest 모델을 학습시키고, X_test를 새로운 데이터로 넣어 Survived를 예측하고, 예측된 값을 pred 라는 이름으로 저장하세요. (모델 학습시킬 때 random_state=100으로 지정)"
   ]
  },
  {
   "cell_type": "code",
   "execution_count": 20,
   "metadata": {},
   "outputs": [],
   "source": [
    "# 정답 Code\n",
    "from sklearn.ensemble import RandomForestClassifier\n",
    "\n",
    "model = RandomForestClassifier(random_state=100).fit(X_train, y_train)\n",
    "pred = model.predict(X_test)"
   ]
  },
  {
   "cell_type": "markdown",
   "metadata": {},
   "source": [
    "### 3. 예측된 pred값과 실제값은 y_test를 사용하여 Classification Report를 만드세요."
   ]
  },
  {
   "cell_type": "code",
   "execution_count": 21,
   "metadata": {},
   "outputs": [],
   "source": [
    "# 정답 Code\n",
    "from sklearn.metrics import classification_report"
   ]
  },
  {
   "cell_type": "code",
   "execution_count": 23,
   "metadata": {},
   "outputs": [
    {
     "name": "stdout",
     "output_type": "stream",
     "text": [
      "              precision    recall  f1-score   support\n",
      "\n",
      "           0       0.70      0.82      0.76       159\n",
      "           1       0.65      0.50      0.56       109\n",
      "\n",
      "    accuracy                           0.69       268\n",
      "   macro avg       0.68      0.66      0.66       268\n",
      "weighted avg       0.68      0.69      0.68       268\n",
      "\n"
     ]
    }
   ],
   "source": [
    "print(classification_report(y_test,pred))"
   ]
  },
  {
   "cell_type": "code",
   "execution_count": 6,
   "metadata": {},
   "outputs": [
    {
     "name": "stdout",
     "output_type": "stream",
     "text": [
      "              precision    recall  f1-score   support\n",
      "\n",
      "           0       0.69      0.80      0.74       159\n",
      "           1       0.62      0.49      0.55       109\n",
      "\n",
      "    accuracy                           0.67       268\n",
      "   macro avg       0.66      0.64      0.64       268\n",
      "weighted avg       0.67      0.67      0.66       268\n",
      "\n"
     ]
    }
   ],
   "source": [
    "# 아래와 같은 형태가 나와야합니다."
   ]
  }
 ],
 "metadata": {
  "kernelspec": {
   "display_name": "Python 3",
   "language": "python",
   "name": "python3"
  },
  "language_info": {
   "codemirror_mode": {
    "name": "ipython",
    "version": 3
   },
   "file_extension": ".py",
   "mimetype": "text/x-python",
   "name": "python",
   "nbconvert_exporter": "python",
   "pygments_lexer": "ipython3",
   "version": "3.8.5"
  }
 },
 "nbformat": 4,
 "nbformat_minor": 4
}

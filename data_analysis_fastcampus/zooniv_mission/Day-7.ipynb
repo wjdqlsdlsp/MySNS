{
 "cells": [
  {
   "cell_type": "markdown",
   "metadata": {},
   "source": [
    "### 1. if 절을 사용하여, x값(input)이 홀수일 경우 1, 짝수일 경우 0이 나타나는 코드를 작성해보세요"
   ]
  },
  {
   "cell_type": "code",
   "execution_count": 1,
   "metadata": {},
   "outputs": [
    {
     "name": "stdout",
     "output_type": "stream",
     "text": [
      "1\n",
      "0\n",
      "1\n",
      "0\n",
      "1\n"
     ]
    }
   ],
   "source": [
    "# 정답 Code\n",
    "A = [1,2,3,4,5] # 리스트 A를 인풋으로 활용하세요. \n",
    "for i in A:    #if절 위에 for loop를 활용하여 1,2,3,4,5가 순차적으로 if절에 들어가도록 코드를 작성하세요. 이 아래로 코드를 작성하시면 됩니다.\n",
    "    if i %2 ==1:\n",
    "        print(1)\n",
    "    else:\n",
    "        print(0)"
   ]
  },
  {
   "cell_type": "code",
   "execution_count": 2,
   "metadata": {},
   "outputs": [
    {
     "name": "stdout",
     "output_type": "stream",
     "text": [
      "1\n",
      "0\n",
      "1\n",
      "0\n",
      "1\n"
     ]
    }
   ],
   "source": [
    "# 아래와 같은 형태가 나와야합니다."
   ]
  },
  {
   "cell_type": "markdown",
   "metadata": {},
   "source": [
    "### 2. if 절을 사용하여, x값(input)이 음수일 경우 양수로 변환되어 출력되는 코드를 작성해보세요"
   ]
  },
  {
   "cell_type": "code",
   "execution_count": 2,
   "metadata": {},
   "outputs": [
    {
     "name": "stdout",
     "output_type": "stream",
     "text": [
      "10\n",
      "5\n",
      "3\n",
      "2\n",
      "7\n"
     ]
    }
   ],
   "source": [
    "# 정답 Code\n",
    "B = [-10, 5, 3, -2, -7] # 리스트 B를 인풋으로 활용하세요. if절 위에 for loop를 활용하여 1,2,3,4,5가 순차적으로 if절에 들어가도록 코드를 작성하세요.\n",
    "for i in B:    #위와 동일하게 for loop를 활용하세요.\n",
    "    if i <0:\n",
    "        print(i*-1)\n",
    "    else:\n",
    "        print(i)"
   ]
  },
  {
   "cell_type": "code",
   "execution_count": 4,
   "metadata": {},
   "outputs": [
    {
     "name": "stdout",
     "output_type": "stream",
     "text": [
      "10\n",
      "5\n",
      "3\n",
      "2\n",
      "7\n"
     ]
    }
   ],
   "source": [
    "# 아래와 같은 형태가 나와야합니다."
   ]
  },
  {
   "cell_type": "markdown",
   "metadata": {},
   "source": [
    "### 3. def를 사용하여 피타고라스의 정리를 만들어보세요. Input은 두개의 변 A, B가 들어가도록 해야합니다."
   ]
  },
  {
   "cell_type": "code",
   "execution_count": 5,
   "metadata": {},
   "outputs": [
    {
     "data": {
      "text/plain": [
       "(5.0, 13.0, 25.0)"
      ]
     },
     "execution_count": 5,
     "metadata": {},
     "output_type": "execute_result"
    }
   ],
   "source": [
    "import numpy as np\n",
    "\n",
    "# 정답 Code\n",
    "def Pythagoras(A, B):   # 이 아래로 코드를 작성하세요\n",
    "    return np.sqrt(A*A + B*B)\n",
    "\n",
    "Pythagoras(3, 4), Pythagoras(5, 12), Pythagoras(7, 24)"
   ]
  },
  {
   "cell_type": "code",
   "execution_count": 9,
   "metadata": {},
   "outputs": [
    {
     "data": {
      "text/plain": [
       "(5.0, 13.0, 25.0)"
      ]
     },
     "execution_count": 9,
     "metadata": {},
     "output_type": "execute_result"
    }
   ],
   "source": [
    "# 아래 코드를 실행했을 때 다음과 같은 결과가 나와야합니다.\n",
    "Pythagoras(3, 4), Pythagoras(5, 12), Pythagoras(7, 24)"
   ]
  }
 ],
 "metadata": {
  "kernelspec": {
   "display_name": "Python 3",
   "language": "python",
   "name": "python3"
  },
  "language_info": {
   "codemirror_mode": {
    "name": "ipython",
    "version": 3
   },
   "file_extension": ".py",
   "mimetype": "text/x-python",
   "name": "python",
   "nbconvert_exporter": "python",
   "pygments_lexer": "ipython3",
   "version": "3.8.5"
  }
 },
 "nbformat": 4,
 "nbformat_minor": 4
}
